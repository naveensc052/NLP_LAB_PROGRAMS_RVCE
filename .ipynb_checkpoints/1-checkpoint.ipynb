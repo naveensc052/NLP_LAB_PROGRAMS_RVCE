{
 "cells": [
  {
   "cell_type": "code",
   "execution_count": 1,
   "id": "dbf975f7",
   "metadata": {},
   "outputs": [
    {
     "name": "stderr",
     "output_type": "stream",
     "text": [
      "[nltk_data] Downloading package wordnet to C:\\Users\\scnav/nltk_data...\n",
      "[nltk_data] Downloading package punkt to C:\\Users\\scnav/nltk_data...\n",
      "[nltk_data]   Package punkt is already up-to-date!\n",
      "[nltk_data] Downloading package stopwords to\n",
      "[nltk_data]     C:\\Users\\scnav/nltk_data...\n",
      "[nltk_data]   Unzipping corpora\\stopwords.zip.\n"
     ]
    },
    {
     "data": {
      "text/plain": [
       "True"
      ]
     },
     "execution_count": 1,
     "metadata": {},
     "output_type": "execute_result"
    }
   ],
   "source": [
    "import re\n",
    "import nltk\n",
    "import math\n",
    "from nltk.stem import WordNetLemmatizer\n",
    "from nltk.tokenize import sent_tokenize,word_tokenize\n",
    "from nltk.corpus import stopwords\n",
    "\n",
    "nltk.download('wordnet')\n",
    "nltk.download('punkt')\n",
    "nltk.download('stopwords')"
   ]
  },
  {
   "cell_type": "code",
   "execution_count": 14,
   "id": "8907f23f",
   "metadata": {},
   "outputs": [],
   "source": [
    "def tokenize_sentence(text):\n",
    "    return sent_tokenize(text)\n",
    "\n",
    "def tokenize_word(text):\n",
    "    words = [word for word in word_tokenize(text) if not is_stop_word(word)]\n",
    "    return words\n",
    "\n",
    "def lemmatize(word):\n",
    "    lemmatizer=WordNetLemmatizer()\n",
    "    return lemmatizer.lemmatize(word)\n",
    "\n",
    "def is_stop_word(word):\n",
    "    stop_words=set(stopwords.words('english'))\n",
    "    return word.lower() in stop_words"
   ]
  },
  {
   "cell_type": "code",
   "execution_count": 15,
   "id": "633587dd",
   "metadata": {},
   "outputs": [],
   "source": [
    "def calculate_tf(word,sentence):\n",
    "    words=tokenize_word(sentence)\n",
    "    return words.count(word)/len(words)\n",
    "\n",
    "def calculate_idf(word,sentences):\n",
    "    no=sum(1 for sentence in sentences if word in tokenize_word(sentence))\n",
    "    return math.log(len(sentences)/(no+1))\n",
    "\n",
    "def calculate_tf_idf(sentence,sentences):\n",
    "    words=set(tokenize_word(sentence))\n",
    "    tf_idf_scores=0\n",
    "    for word in words:\n",
    "        tf=calculate_tf(word,sentence)\n",
    "        idf=calculate_idf(word,sentences)\n",
    "        tf_idf_scores+=tf*idf\n",
    "    return tf_idf_scores"
   ]
  },
  {
   "cell_type": "code",
   "execution_count": 16,
   "id": "5804f99e",
   "metadata": {},
   "outputs": [],
   "source": [
    "def find_max_sentence(scores):\n",
    "    max_score=float('-inf')\n",
    "    max_sentence=None\n",
    "    for sentence,score in scores.items():\n",
    "        if(score>max_score):\n",
    "            max_score=score\n",
    "            max_sentence=sentence\n",
    "    return max_sentence"
   ]
  },
  {
   "cell_type": "code",
   "execution_count": 17,
   "id": "9aaa9407",
   "metadata": {},
   "outputs": [],
   "source": [
    "def n_largest(scores,n):\n",
    "    sentences=[]\n",
    "    for i in range(n):\n",
    "        max_sentence=find_max_sentence(scores)\n",
    "        sentences.append(max_sentence)\n",
    "        del scores[max_sentence]\n",
    "    return sentences"
   ]
  },
  {
   "cell_type": "code",
   "execution_count": 18,
   "id": "a7861574",
   "metadata": {},
   "outputs": [],
   "source": [
    "def summarize_text(text,length):\n",
    "    sentences=tokenize_sentence(text)\n",
    "    sentence_scores={sentence:calculate_tf_idf(sentence,sentences) for sentence in sentences}\n",
    "    selected_sentences=n_largest(sentence_scores,length)\n",
    "    summary=' '.join(selected_sentences)\n",
    "    return summary"
   ]
  },
  {
   "cell_type": "code",
   "execution_count": 19,
   "id": "7241b4fe",
   "metadata": {},
   "outputs": [
    {
     "name": "stdout",
     "output_type": "stream",
     "text": [
      "Summary:\n",
      "The company employees around 106,000 people and some of its operations are seen as critical to national security. Four JIP executives will join the board, as well as one each from investors Orix and Chubu Electric. Toshiba has begun moving already, teaming up with Rohm to invest $2.7 billion in manufacturing facilities to jointly produce power chips. \n",
      "The $14 billion takeover puts Toshiba in domestic hands after protracted battles with overseas activist investors that paralysed the maker of batteries, chips, and nuclear and defence equipment. The company needs to get out of lower-margin businesses and develop stronger commercial strategies for some of its advanced technologies, said Ulrike Schaede, a professor of Japanese business at the University of California, San Diego. Some industry insiders say splitting up Toshiba may be a better option. The new management team will be joined by a senior adviser from Toshiba's main lender, Sumitomo Mitsui Financial Group (8316.T).\n"
     ]
    }
   ],
   "source": [
    "text= \"\"\"\n",
    "The $14 billion takeover puts Toshiba in domestic hands after protracted battles with overseas activist investors that paralysed the maker of batteries, chips, and nuclear and defence equipment. \n",
    "Toshiba \"will now take a major step toward a new future with a new shareholder,\" the company said in a statement, adding that it would appreciate continuous understanding and support from its stakeholders. \n",
    "Toshiba shares ended Tuesday, their last trading day, at 4,590 yen, down 0.1% from the previous day. \n",
    "Although it is not clear what shape Toshiba will ultimately take under its new owners, Chief Executive Taro Shimada, who is staying in his role following the buyout, is expected to focus on high-margin digital services. \n",
    "JIP's support for Shimada had derailed its earlier plan to team up with a state-backed fund. \n",
    "Some industry insiders say splitting up Toshiba may be a better option. \n",
    "\"Toshiba's difficulties ultimately were caused by a combination of bad strategic decisions and bad luck,\" said Damian Thong, head of Japan research at Macquarie Capital Securities.\n",
    "\"I hope that through divestitures, Toshiba's assets and human talent can find new homes where their full potential can be unleashed.\" Japan's government will be keeping a close watch. \n",
    "The company employees around 106,000 people and some of its operations are seen as critical to national security. \n",
    "Four JIP executives will join the board, as well as one each from investors Orix and Chubu Electric. \n",
    "The new management team will be joined by a senior adviser from Toshiba's main lender, Sumitomo Mitsui Financial Group (8316.T). \n",
    "Toshiba has begun moving already, teaming up with Rohm to invest $2.7 billion in manufacturing facilities to jointly produce power chips. \n",
    "The company needs to get out of lower-margin businesses and develop stronger commercial strategies for some of its advanced technologies, said Ulrike Schaede, a professor of Japanese business at the University of California, San Diego. \n",
    "\"If management can figure out a way to let those engineers truly engage in breakthrough innovation activities, they can emerge as an important player,\" Schaede said. \n",
    "\"They're a deep tech company.\" \n",
    "\"\"\"\n",
    "summary=summarize_text(text,7)\n",
    "print(\"Summary:\")\n",
    "print(summary)"
   ]
  }
 ],
 "metadata": {
  "kernelspec": {
   "display_name": "Python 3 (ipykernel)",
   "language": "python",
   "name": "python3"
  },
  "language_info": {
   "codemirror_mode": {
    "name": "ipython",
    "version": 3
   },
   "file_extension": ".py",
   "mimetype": "text/x-python",
   "name": "python",
   "nbconvert_exporter": "python",
   "pygments_lexer": "ipython3",
   "version": "3.11.5"
  }
 },
 "nbformat": 4,
 "nbformat_minor": 5
}
