{
 "cells": [
  {
   "cell_type": "code",
   "execution_count": 1,
   "id": "9c3598c9",
   "metadata": {},
   "outputs": [],
   "source": [
    "import pandas as pd\n",
    "import matplotlib.pyplot as plt\n",
    "\n",
    "import nltk\n",
    "from nltk.tokenize import word_tokenize\n",
    "from nltk.stem import WordNetLemmatizer\n",
    "from nltk.corpus import stopwords\n",
    "\n",
    "import gensim\n",
    "from gensim.corpora import Dictionary\n",
    "from gensim.models import LsiModel\n",
    "from gensim.matutils import corpus2csc"
   ]
  },
  {
   "cell_type": "code",
   "execution_count": 2,
   "id": "2b7bc6ad",
   "metadata": {},
   "outputs": [],
   "source": [
    "df = pd.read_csv(\"quora_questions.csv\")\n",
    "data = df.sample(n=1000, axis=0)\n",
    "data = data['Question']"
   ]
  },
  {
   "cell_type": "code",
   "execution_count": 3,
   "id": "630f046b",
   "metadata": {},
   "outputs": [
    {
     "name": "stderr",
     "output_type": "stream",
     "text": [
      "[nltk_data] Downloading package punkt to C:\\Users\\scnav/nltk_data...\n",
      "[nltk_data]   Package punkt is already up-to-date!\n",
      "[nltk_data] Downloading package wordnet to C:\\Users\\scnav/nltk_data...\n",
      "[nltk_data]   Package wordnet is already up-to-date!\n",
      "[nltk_data] Downloading package stopwords to\n",
      "[nltk_data]     C:\\Users\\scnav/nltk_data...\n",
      "[nltk_data]   Package stopwords is already up-to-date!\n"
     ]
    },
    {
     "data": {
      "text/plain": [
       "True"
      ]
     },
     "execution_count": 3,
     "metadata": {},
     "output_type": "execute_result"
    }
   ],
   "source": [
    "nltk.download('punkt')\n",
    "nltk.download('wordnet')\n",
    "nltk.download('stopwords')"
   ]
  },
  {
   "cell_type": "code",
   "execution_count": 4,
   "id": "2a11c4ec",
   "metadata": {},
   "outputs": [],
   "source": [
    "lemmatizer = WordNetLemmatizer()\n",
    "stop_words = set(stopwords.words(\"english\"))"
   ]
  },
  {
   "cell_type": "code",
   "execution_count": 5,
   "id": "41c1f6b1",
   "metadata": {},
   "outputs": [],
   "source": [
    "def preprocess(text):\n",
    "    text = text.lower()\n",
    "    words = word_tokenize(text)\n",
    "    words = [lemmatizer.lemmatize(word) for word in words if word not in stop_words]\n",
    "    import re\n",
    "    special_chars = r'[,.:;?\\(\\'\"\\s]'\n",
    "    words = [re.sub(special_chars, '', word) for word in words]\n",
    "    return words"
   ]
  },
  {
   "cell_type": "code",
   "execution_count": 6,
   "id": "24339098",
   "metadata": {},
   "outputs": [],
   "source": [
    "data = data.apply(preprocess)\n",
    "dictionary = Dictionary(data)"
   ]
  },
  {
   "cell_type": "code",
   "execution_count": 7,
   "id": "64b8f726",
   "metadata": {},
   "outputs": [],
   "source": [
    "dictionary.filter_extremes(no_below=5, no_above=0.5)"
   ]
  },
  {
   "cell_type": "code",
   "execution_count": 8,
   "id": "c897a0cb",
   "metadata": {},
   "outputs": [],
   "source": [
    "bow_corpus = [dictionary.doc2bow(text) for text in data]"
   ]
  },
  {
   "cell_type": "code",
   "execution_count": 9,
   "id": "b7461592",
   "metadata": {},
   "outputs": [],
   "source": [
    "num_topics = 5\n",
    "lsamodel = LsiModel(bow_corpus, num_topics=num_topics, id2word=dictionary)"
   ]
  },
  {
   "cell_type": "code",
   "execution_count": 10,
   "id": "78b11646",
   "metadata": {},
   "outputs": [],
   "source": [
    "topics = lsamodel.show_topics(num_topics=num_topics, num_words=10)"
   ]
  },
  {
   "cell_type": "code",
   "execution_count": 11,
   "id": "d7c65383",
   "metadata": {},
   "outputs": [],
   "source": [
    "top_topics = []\n",
    "for topic in topics:\n",
    "    top_topics.append(topic[1])"
   ]
  },
  {
   "cell_type": "code",
   "execution_count": 12,
   "id": "d96124a2",
   "metadata": {},
   "outputs": [
    {
     "name": "stdout",
     "output_type": "stream",
     "text": [
      "Top 5 LSA Topics:\n",
      "Topic 1: -0.878*\"best\" + -0.242*\"get\" + -0.144*\"way\" + -0.139*\"s\" + -0.102*\"movie\" + -0.101*\"make\" + -0.090*\"learn\" + -0.086*\"nt\" + -0.078*\"online\" + -0.072*\"indian\"\n",
      "Topic 2: 0.763*\"get\" + -0.345*\"best\" + 0.254*\"nt\" + 0.180*\"number\" + 0.143*\"s\" + 0.124*\"like\" + 0.112*\"message\" + 0.100*\"people\" + 0.099*\"could\" + 0.089*\"know\"\n",
      "Topic 3: 0.686*\"s\" + -0.411*\"get\" + 0.224*\"nt\" + 0.191*\"world\" + 0.167*\"like\" + 0.130*\"ca\" + -0.130*\"best\" + 0.128*\"new\" + 0.103*\"good\" + 0.099*\"m\"\n",
      "Topic 4: -0.611*\"make\" + -0.377*\"money\" + -0.375*\"way\" + -0.370*\"online\" + 0.239*\"s\" + -0.201*\"good\" + 0.153*\"best\" + -0.116*\"without\" + -0.108*\"using\" + 0.084*\"get\"\n",
      "Topic 5: -0.632*\"nt\" + 0.422*\"like\" + -0.282*\"ca\" + 0.228*\"s\" + -0.206*\"number\" + 0.205*\"get\" + -0.143*\"stop\" + 0.114*\"work\" + 0.106*\"indian\" + -0.094*\"message\"\n"
     ]
    }
   ],
   "source": [
    "print(\"Top 5 LSA Topics:\")\n",
    "for i, topic in enumerate(top_topics, start=1):\n",
    "    print(\"Topic {}: {}\".format(i, topic))"
   ]
  },
  {
   "cell_type": "code",
   "execution_count": 13,
   "id": "94525669",
   "metadata": {},
   "outputs": [
    {
     "name": "stdout",
     "output_type": "stream",
     "text": [
      "Top 5 LSA Topics:\n",
      "Topic 1: best, get, way, s, movie, make, learn, nt, online, indian\n",
      "Topic 2: get, best, nt, number, s, like, message, people, could, know\n",
      "Topic 3: s, get, nt, world, like, ca, best, new, good, m\n",
      "Topic 4: make, money, way, online, s, good, best, without, using, get\n",
      "Topic 5: nt, like, ca, s, number, get, stop, work, indian, message\n"
     ]
    }
   ],
   "source": [
    "import re\n",
    "\n",
    "print(\"Top 5 LSA Topics:\")\n",
    "for i, topic in enumerate(top_topics, start=1):\n",
    "    words = re.findall(r'\"([^\"]*)\"', topic)\n",
    "    print(\"Topic {}: {}\".format(i, \", \".join(words)))"
   ]
  }
 ],
 "metadata": {
  "kernelspec": {
   "display_name": "Python 3 (ipykernel)",
   "language": "python",
   "name": "python3"
  },
  "language_info": {
   "codemirror_mode": {
    "name": "ipython",
    "version": 3
   },
   "file_extension": ".py",
   "mimetype": "text/x-python",
   "name": "python",
   "nbconvert_exporter": "python",
   "pygments_lexer": "ipython3",
   "version": "3.11.5"
  }
 },
 "nbformat": 4,
 "nbformat_minor": 5
}
