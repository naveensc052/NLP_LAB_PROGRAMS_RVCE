{
 "cells": [
  {
   "cell_type": "code",
   "execution_count": 1,
   "id": "8af38113",
   "metadata": {},
   "outputs": [],
   "source": [
    "import numpy as np\n",
    "import pandas as pd\n",
    "from collections import Counter"
   ]
  },
  {
   "cell_type": "code",
   "execution_count": 2,
   "id": "525ae71f",
   "metadata": {},
   "outputs": [],
   "source": [
    "def calculate_tfidf(docs):\n",
    "    tf=[]\n",
    "    for doc in docs:\n",
    "        l=doc.split()\n",
    "        d={term:l.count(term) for term in l}\n",
    "        tf.append(d)\n",
    "    \n",
    "    idf={}\n",
    "    for doc in tf:\n",
    "        for term in doc:\n",
    "            idf[term]=idf.get(term,0)+1\n",
    "    idf={term:np.log(len(docs)/freq) for term,freq in idf.items()}\n",
    "    \n",
    "    tfidf=[]\n",
    "    for doc in tf:\n",
    "        d={}\n",
    "        for term,tfval in doc.items():\n",
    "            d[term]=tfval*idf[term]\n",
    "        tfidf.append(d)\n",
    "    return tfidf"
   ]
  },
  {
   "cell_type": "code",
   "execution_count": 3,
   "id": "e047e024",
   "metadata": {},
   "outputs": [],
   "source": [
    "def tfidf_to_vector(tfidf,vocabulary):\n",
    "    vector=[]\n",
    "    for doc in tfidf:\n",
    "        vector.append([doc.get(term,0) for term in vocabulary])\n",
    "    return vector"
   ]
  },
  {
   "cell_type": "code",
   "execution_count": 4,
   "id": "0bebbe6e",
   "metadata": {},
   "outputs": [],
   "source": [
    "df = pd.read_csv(\"Musical_instruments_reviews.csv\")\n",
    "x=df.iloc[:,4].values\n",
    "y=df.iloc[:,5].values"
   ]
  },
  {
   "cell_type": "code",
   "execution_count": 5,
   "id": "f166bda3",
   "metadata": {},
   "outputs": [],
   "source": [
    "for i in range(len(y)):\n",
    "    if(y[i]==4 or y[i]==5):\n",
    "        y[i]=1\n",
    "    elif(y[i]==3):\n",
    "        y[i]=0\n",
    "    else:\n",
    "        y[i]=-1"
   ]
  },
  {
   "cell_type": "code",
   "execution_count": 6,
   "id": "de4514c6",
   "metadata": {},
   "outputs": [
    {
     "data": {
      "image/png": "[encoded data removed]",
      "text/plain": [
       "<Figure size 640x480 with 1 Axes>"
      ]
     },
     "metadata": {},
     "output_type": "display_data"
    }
   ],
   "source": [
    "import matplotlib.pyplot as plt\n",
    "x0=[-1,0,1]\n",
    "y2=list(y)\n",
    "y0=[y2.count(-1),y2.count(0),y2.count(1)]\n",
    "plt.bar(x0,y0)\n",
    "plt.show()"
   ]
  },
  {
   "cell_type": "code",
   "execution_count": 7,
   "id": "f1abe952",
   "metadata": {},
   "outputs": [
    {
     "name": "stdout",
     "output_type": "stream",
     "text": [
      "467 772 9022 10261 10261\n"
     ]
    }
   ],
   "source": [
    "print(y2.count(-1),y2.count(0),y2.count(1),len(x),len(y))"
   ]
  },
  {
   "cell_type": "code",
   "execution_count": 8,
   "id": "1eae71cb",
   "metadata": {},
   "outputs": [],
   "source": [
    "x2=[]\n",
    "y2=[]\n",
    "c={}\n",
    "c[-1]=0\n",
    "c[0]=0\n",
    "c[1]=0\n",
    "for z in range(len(x)):\n",
    "    if(c[y[z]]<=467):\n",
    "        x2.append(x[z])\n",
    "        c[y[z]]+=1\n",
    "        y2.append(y[z])"
   ]
  },
  {
   "cell_type": "code",
   "execution_count": 9,
   "id": "f594df0a",
   "metadata": {},
   "outputs": [
    {
     "data": {
      "image/png": "[encoded data removed]",
      "text/plain": [
       "<Figure size 640x480 with 1 Axes>"
      ]
     },
     "metadata": {},
     "output_type": "display_data"
    }
   ],
   "source": [
    "x0=[-1,0,1]\n",
    "y0=[y2.count(-1),y2.count(0),y2.count(1)]\n",
    "plt.bar(x0,y0)\n",
    "plt.show()"
   ]
  },
  {
   "cell_type": "code",
   "execution_count": 10,
   "id": "cf971a38",
   "metadata": {},
   "outputs": [
    {
     "name": "stdout",
     "output_type": "stream",
     "text": [
      "1403 1403\n"
     ]
    }
   ],
   "source": [
    "x=x2\n",
    "y=y2\n",
    "print(len(x),len(y))"
   ]
  },
  {
   "cell_type": "code",
   "execution_count": 11,
   "id": "05f74d4c",
   "metadata": {},
   "outputs": [],
   "source": [
    "from sklearn.model_selection import train_test_split\n",
    "x_train,x_test,y_train,y_test=train_test_split(x,y,test_size=0.2,random_state=1,stratify=y)"
   ]
  },
  {
   "cell_type": "code",
   "execution_count": 12,
   "id": "4effc9bc",
   "metadata": {},
   "outputs": [],
   "source": [
    "from nltk.tokenize import word_tokenize\n",
    "from nltk.corpus import stopwords\n",
    "stop_words=set(stopwords.words('english'))\n",
    "vocabulary=set(word for sentence in x_train for word in word_tokenize(sentence) if word not in stop_words and len(word)>1 and word[0].isalpha())"
   ]
  },
  {
   "cell_type": "code",
   "execution_count": 13,
   "id": "3d3fb525",
   "metadata": {},
   "outputs": [],
   "source": [
    "xtrain_tfidf=calculate_tfidf(x_train)\n",
    "xtest_tfidf=calculate_tfidf(x_test)"
   ]
  },
  {
   "cell_type": "code",
   "execution_count": 14,
   "id": "a92f90a3",
   "metadata": {},
   "outputs": [],
   "source": [
    "xtrain_vector=tfidf_to_vector(xtrain_tfidf,vocabulary)\n",
    "xtest_vector=tfidf_to_vector(xtest_tfidf,vocabulary)"
   ]
  },
  {
   "cell_type": "code",
   "execution_count": 15,
   "id": "ddf45eee",
   "metadata": {},
   "outputs": [],
   "source": [
    "voc_score={}\n",
    "for i in vocabulary:\n",
    "    for j in xtrain_tfidf:\n",
    "        if i not in voc_score:\n",
    "            voc_score[i]=j.get(i,0)\n",
    "        else:\n",
    "            voc_score[i]=max(voc_score[i],j.get(i,0))"
   ]
  },
  {
   "cell_type": "code",
   "execution_count": 16,
   "id": "f164e99b",
   "metadata": {},
   "outputs": [
    {
     "data": {
      "text/html": [
       "<style>#sk-container-id-1 {color: black;background-color: white;}#sk-container-id-1 pre{padding: 0;}#sk-container-id-1 div.sk-toggleable {background-color: white;}#sk-container-id-1 label.sk-toggleable__label {cursor: pointer;display: block;width: 100%;margin-bottom: 0;padding: 0.3em;box-sizing: border-box;text-align: center;}#sk-container-id-1 label.sk-toggleable__label-arrow:before {content: \"▸\";float: left;margin-right: 0.25em;color: #696969;}#sk-container-id-1 label.sk-toggleable__label-arrow:hover:before {color: black;}#sk-container-id-1 div.sk-estimator:hover label.sk-toggleable__label-arrow:before {color: black;}#sk-container-id-1 div.sk-toggleable__content {max-height: 0;max-width: 0;overflow: hidden;text-align: left;background-color: #f0f8ff;}#sk-container-id-1 div.sk-toggleable__content pre {margin: 0.2em;color: black;border-radius: 0.25em;background-color: #f0f8ff;}#sk-container-id-1 input.sk-toggleable__control:checked~div.sk-toggleable__content {max-height: 200px;max-width: 100%;overflow: auto;}#sk-container-id-1 input.sk-toggleable__control:checked~label.sk-toggleable__label-arrow:before {content: \"▾\";}#sk-container-id-1 div.sk-estimator input.sk-toggleable__control:checked~label.sk-toggleable__label {background-color: #d4ebff;}#sk-container-id-1 div.sk-label input.sk-toggleable__control:checked~label.sk-toggleable__label {background-color: #d4ebff;}#sk-container-id-1 input.sk-hidden--visually {border: 0;clip: rect(1px 1px 1px 1px);clip: rect(1px, 1px, 1px, 1px);height: 1px;margin: -1px;overflow: hidden;padding: 0;position: absolute;width: 1px;}#sk-container-id-1 div.sk-estimator {font-family: monospace;background-color: #f0f8ff;border: 1px dotted black;border-radius: 0.25em;box-sizing: border-box;margin-bottom: 0.5em;}#sk-container-id-1 div.sk-estimator:hover {background-color: #d4ebff;}#sk-container-id-1 div.sk-parallel-item::after {content: \"\";width: 100%;border-bottom: 1px solid gray;flex-grow: 1;}#sk-container-id-1 div.sk-label:hover label.sk-toggleable__label {background-color: #d4ebff;}#sk-container-id-1 div.sk-serial::before {content: \"\";position: absolute;border-left: 1px solid gray;box-sizing: border-box;top: 0;bottom: 0;left: 50%;z-index: 0;}#sk-container-id-1 div.sk-serial {display: flex;flex-direction: column;align-items: center;background-color: white;padding-right: 0.2em;padding-left: 0.2em;position: relative;}#sk-container-id-1 div.sk-item {position: relative;z-index: 1;}#sk-container-id-1 div.sk-parallel {display: flex;align-items: stretch;justify-content: center;background-color: white;position: relative;}#sk-container-id-1 div.sk-item::before, #sk-container-id-1 div.sk-parallel-item::before {content: \"\";position: absolute;border-left: 1px solid gray;box-sizing: border-box;top: 0;bottom: 0;left: 50%;z-index: -1;}#sk-container-id-1 div.sk-parallel-item {display: flex;flex-direction: column;z-index: 1;position: relative;background-color: white;}#sk-container-id-1 div.sk-parallel-item:first-child::after {align-self: flex-end;width: 50%;}#sk-container-id-1 div.sk-parallel-item:last-child::after {align-self: flex-start;width: 50%;}#sk-container-id-1 div.sk-parallel-item:only-child::after {width: 0;}#sk-container-id-1 div.sk-dashed-wrapped {border: 1px dashed gray;margin: 0 0.4em 0.5em 0.4em;box-sizing: border-box;padding-bottom: 0.4em;background-color: white;}#sk-container-id-1 div.sk-label label {font-family: monospace;font-weight: bold;display: inline-block;line-height: 1.2em;}#sk-container-id-1 div.sk-label-container {text-align: center;}#sk-container-id-1 div.sk-container {/* jupyter's `normalize.less` sets `[hidden] { display: none; }` but bootstrap.min.css set `[hidden] { display: none !important; }` so we also need the `!important` here to be able to override the default hidden behavior on the sphinx rendered scikit-learn.org. See: https://github.com/scikit-learn/scikit-learn/issues/21755 */display: inline-block !important;position: relative;}#sk-container-id-1 div.sk-text-repr-fallback {display: none;}</style><div id=\"sk-container-id-1\" class=\"sk-top-container\"><div class=\"sk-text-repr-fallback\"><pre>LogisticRegression(max_iter=1000)</pre><b>In a Jupyter environment, please rerun this cell to show the HTML representation or trust the notebook. <br />On GitHub, the HTML representation is unable to render, please try loading this page with nbviewer.org.</b></div><div class=\"sk-container\" hidden><div class=\"sk-item\"><div class=\"sk-estimator sk-toggleable\"><input class=\"sk-toggleable__control sk-hidden--visually\" id=\"sk-estimator-id-1\" type=\"checkbox\" checked><label for=\"sk-estimator-id-1\" class=\"sk-toggleable__label sk-toggleable__label-arrow\">LogisticRegression</label><div class=\"sk-toggleable__content\"><pre>LogisticRegression(max_iter=1000)</pre></div></div></div></div></div>"
      ],
      "text/plain": [
       "LogisticRegression(max_iter=1000)"
      ]
     },
     "execution_count": 16,
     "metadata": {},
     "output_type": "execute_result"
    }
   ],
   "source": [
    "from sklearn.linear_model import LogisticRegression\n",
    "model=LogisticRegression(max_iter=1000)\n",
    "model.fit(xtrain_vector,y_train)"
   ]
  },
  {
   "cell_type": "code",
   "execution_count": 17,
   "id": "7e1cf924",
   "metadata": {},
   "outputs": [
    {
     "name": "stdout",
     "output_type": "stream",
     "text": [
      "9402\n",
      "0.608540925266904\n"
     ]
    }
   ],
   "source": [
    "y_pred=model.predict(xtest_vector)\n",
    "print(len(voc_score))\n",
    "from sklearn.metrics import accuracy_score\n",
    "print(accuracy_score(y_test,y_pred))"
   ]
  },
  {
   "cell_type": "code",
   "execution_count": 18,
   "id": "35cf300a",
   "metadata": {},
   "outputs": [
    {
     "name": "stdout",
     "output_type": "stream",
     "text": [
      "-1.0\n"
     ]
    }
   ],
   "source": [
    "review=\"This is a good keyboard but it broke soon\"\n",
    "l=[[]]\n",
    "for i in voc_score:\n",
    "    if(i in review):\n",
    "        l[0].append(voc_score[i])\n",
    "    else:\n",
    "        l[0].append(0)\n",
    "#review_tfidf=calculate_tfidf(review)\n",
    "#review_vector=tfidf_to_vector(review_tfidf,vocabulary)\n",
    "res=model.predict(l)\n",
    "print(res[0])"
   ]
  },
  {
   "cell_type": "code",
   "execution_count": 19,
   "id": "6a046cf2",
   "metadata": {},
   "outputs": [
    {
     "name": "stdout",
     "output_type": "stream",
     "text": [
      "0.0\n"
     ]
    }
   ],
   "source": [
    "review=\"Great little cord\"\n",
    "l=[[]]\n",
    "for i in voc_score:\n",
    "    if(i in review):\n",
    "        l[0].append(voc_score[i])\n",
    "    else:\n",
    "        l[0].append(0)\n",
    "#review_tfidf=calculate_tfidf(review)\n",
    "#review_vector=tfidf_to_vector(review_tfidf,vocabulary)\n",
    "res=model.predict(l)\n",
    "print(res[0])"
   ]
  },
  {
   "cell_type": "code",
   "execution_count": 20,
   "id": "f1cf2182",
   "metadata": {},
   "outputs": [
    {
     "name": "stdout",
     "output_type": "stream",
     "text": [
      "1.0\n"
     ]
    }
   ],
   "source": [
    "review=\"Does the job. What more do you need\"\n",
    "l=[[]]\n",
    "for i in voc_score:\n",
    "    if(i in review):\n",
    "        l[0].append(voc_score[i])\n",
    "    else:\n",
    "        l[0].append(0)\n",
    "#review_tfidf=calculate_tfidf(review)\n",
    "#review_vector=tfidf_to_vector(review_tfidf,vocabulary)\n",
    "res=model.predict(l)\n",
    "print(res[0])"
   ]
  }
 ],
 "metadata": {
  "kernelspec": {
   "display_name": "Python 3 (ipykernel)",
   "language": "python",
   "name": "python3"
  },
  "language_info": {
   "codemirror_mode": {
    "name": "ipython",
    "version": 3
   },
   "file_extension": ".py",
   "mimetype": "text/x-python",
   "name": "python",
   "nbconvert_exporter": "python",
   "pygments_lexer": "ipython3",
   "version": "3.11.5"
  }
 },
 "nbformat": 4,
 "nbformat_minor": 5
}
